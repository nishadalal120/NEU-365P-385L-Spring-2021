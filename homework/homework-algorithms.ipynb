{
 "cells": [
  {
   "cell_type": "markdown",
   "metadata": {},
   "source": [
    "# Homework (12 pts) - Algorithms\n",
    "\n",
    "## Nisha Dalal nd8288\n",
    "\n",
    "Questions below refer to the **Selection Sort** algorithm. See image depiction below.\n",
    "\n",
    "![Selection Sort](images/selectionsort.jpg)"
   ]
  },
  {
   "cell_type": "markdown",
   "metadata": {},
   "source": [
    "1. (3 pts) Write a breif high level natural language description of how you would implement the selection sort algorithm."
   ]
  },
  {
   "cell_type": "raw",
   "metadata": {},
   "source": [
    "Start at index 0 (first element in array). Go through the entire array and find the smallest element. Swap it with the first element at index 0.\n",
    "\n",
    "Start at index 1 (second element in array). Go through the entire array and find the second-smallest element. Swap it with the second element at index 1.\n",
    "\n",
    "Starting at index 2, find the third-smallest element. Swap it with the third element in the list at index 2.\n",
    "\n",
    "Repeat finding the next-smallest element, and swapping it into the correct position until the array is sorted."
   ]
  },
  {
   "cell_type": "markdown",
   "metadata": {},
   "source": [
    "2. (3 pts) Write pseudocode for the selection sort algorithm."
   ]
  },
  {
   "cell_type": "raw",
   "metadata": {},
   "source": [
    "define and name function (with parameters):\n",
    "    \n",
    "    for loop to go through each index in the length of list\n",
    "        find the min\n",
    "            start with min = first element\n",
    "        go through array and see if there is a smaller value than current index\n",
    "        swap the min with the smaller element at that index\n",
    "\n",
    "    return items"
   ]
  },
  {
   "cell_type": "markdown",
   "metadata": {},
   "source": [
    "3. (3 pts) Write a function implementing the selection sort algorithm on an input list."
   ]
  },
  {
   "cell_type": "code",
   "execution_count": 1,
   "metadata": {},
   "outputs": [],
   "source": [
    "def selectionSort(items):\n",
    "    for i in range (len(items) - 1):\n",
    "        # find the min\n",
    "        min = items[i]\n",
    "        min_Idx = i\n",
    "        \n",
    "        for n in range (i + 1, len(items)):\n",
    "            if (items[n] < min):\n",
    "                min = items[n]\n",
    "                min_Idx = n\n",
    "                \n",
    "        # Swap the min with the element at the ith place\n",
    "        items[min_Idx] = items[i]\n",
    "        items[i] = min\n",
    "    return items"
   ]
  },
  {
   "cell_type": "markdown",
   "metadata": {},
   "source": [
    "4. (3 pts) Use your function to sort the list of items below. Print your sorted items to verify."
   ]
  },
  {
   "cell_type": "code",
   "execution_count": 2,
   "metadata": {},
   "outputs": [
    {
     "name": "stdout",
     "output_type": "stream",
     "text": [
      "Original: [4 9 6 6 0 2 7 6 3 3 1 7 9 4 6 3 8 3 7 4]\n",
      "Sorted: [0 1 2 3 3 3 3 4 4 4 6 6 6 6 7 7 7 8 9 9]\n"
     ]
    }
   ],
   "source": [
    "import numpy as np\n",
    "\n",
    "items = np.random.randint(0, 10, 20)\n",
    "\n",
    "print(\"Original:\", items)\n",
    "print(\"Sorted:\", selectionSort(items))"
   ]
  },
  {
   "cell_type": "code",
   "execution_count": null,
   "metadata": {},
   "outputs": [],
   "source": []
  }
 ],
 "metadata": {
  "kernelspec": {
   "display_name": "Python 3",
   "language": "python",
   "name": "python3"
  },
  "language_info": {
   "codemirror_mode": {
    "name": "ipython",
    "version": 3
   },
   "file_extension": ".py",
   "mimetype": "text/x-python",
   "name": "python",
   "nbconvert_exporter": "python",
   "pygments_lexer": "ipython3",
   "version": "3.8.5"
  }
 },
 "nbformat": 4,
 "nbformat_minor": 4
}
