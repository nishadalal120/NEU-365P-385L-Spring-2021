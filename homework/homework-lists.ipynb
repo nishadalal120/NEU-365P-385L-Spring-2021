{
 "cells": [
  {
   "cell_type": "markdown",
   "metadata": {},
   "source": [
    "# Homework - Lists (15 pts)\n",
    "\n",
    "## Nisha Dalal nd8288"
   ]
  },
  {
   "cell_type": "code",
   "execution_count": 1,
   "metadata": {},
   "outputs": [],
   "source": [
    "animals = [\"Orca\", \"Wolf\", \"Gecko\"]"
   ]
  },
  {
   "cell_type": "markdown",
   "metadata": {},
   "source": [
    "1. (3 pts) For the list of animal sabove, change \"Wolf\" to \"Dog\" and append \"Puma\" and \"Jaguar\" to the end of the list. **!!! Modify the original animals variable, DON'T JUST TYPE A NEW LIST.** Then print the modified **animals** list."
   ]
  },
  {
   "cell_type": "code",
   "execution_count": 2,
   "metadata": {},
   "outputs": [],
   "source": [
    "# change \"Wolf\" to \"Dog\"\n",
    "animals[1] = \"Dog\"\n",
    "\n",
    "# append \"Puma\" and \"Jaguar\" to animals \n",
    "animals.append(\"Puma\")\n",
    "animals.append(\"Jaguar\")\n",
    "\n",
    "# print animals\n",
    "print(animals)"
   ]
  },
  {
   "cell_type": "markdown",
   "metadata": {},
   "source": [
    "2. (3 pts) Create a new variable **cats** and USE LIST INDEXING to set it to the cats in the **animals** list. Print the **cats** list."
   ]
  },
  {
   "cell_type": "code",
   "execution_count": 3,
   "metadata": {},
   "outputs": [],
   "source": [
    "# create cats\n",
    "cats = animals[3:]\n",
    "\n",
    "# print cats\n",
    "print(cats)"
   ]
  },
  {
   "cell_type": "markdown",
   "metadata": {},
   "source": [
    "3. (3 pts) Create two new variables **animalsRef** and **animalsCopy** and set them to a reference and a copy of the **animals** list, respectively. Then change \"Dog\" to \"Wolf\" in **animalsRef** and \"Orca\" to \"Dolphin\" in **animalsCopy**. Thren print the **animals**, **animalsRef** and **animalsCopy** lists."
   ]
  },
  {
   "cell_type": "code",
   "execution_count": 4,
   "metadata": {},
   "outputs": [],
   "source": [
    "import copy\n",
    "\n",
    "# create Ref and Copy\n",
    "animalsRef = animals\n",
    "animalsCopy = copy.deepcopy(animals)\n",
    "\n",
    "# change \"Dog\" to \"Wolf\" in animalsRef \n",
    "animalsRef[1] = \"Wolf\"\n",
    "# change \"Orca\" to \"Dolphin\" in animalsCopy\n",
    "animalsCopy[0] = \"Dolphin\"\n",
    "\n",
    "# print\n",
    "print(\"animals:\", animals)\n",
    "print(\"animalsRef:\", animalsRef)\n",
    "print(\"animalsCopy:\", animalsCopy)\n"
   ]
  },
  {
   "cell_type": "markdown",
   "metadata": {},
   "source": [
    "4. (3 pts) Write a for loop over the **animals** list and print out each animal that is a type of cat."
   ]
  },
  {
   "cell_type": "code",
   "execution_count": 5,
   "metadata": {},
   "outputs": [],
   "source": [
    "for a in animals:\n",
    "    if a in cats:\n",
    "        print(a)"
   ]
  },
  {
   "cell_type": "markdown",
   "metadata": {},
   "source": [
    "5. (3 pts) Write an enumerated for loop over the **animals** list and change \"Gecko\" to \"Salamander\" within the loop. Then print the modified **animals** list."
   ]
  },
  {
   "cell_type": "code",
   "execution_count": 6,
   "metadata": {},
   "outputs": [
    {
     "name": "stdout",
     "output_type": "stream",
     "text": [
      "['Orca', 'Wolf', 'Salamander', 'Puma', 'Jaguar']\n"
     ]
    }
   ],
   "source": [
    "for (n, a) in enumerate(animals):\n",
    "    if a == \"Gecko\":\n",
    "        animals[n] = \"Salamander\"\n",
    "        a = \"Salamander\"\n",
    "    # print(n, a)\n",
    "print(animals)"
   ]
  },
  {
   "cell_type": "code",
   "execution_count": null,
   "metadata": {},
   "outputs": [],
   "source": []
  }
 ],
 "metadata": {
  "kernelspec": {
   "display_name": "Python 3",
   "language": "python",
   "name": "python3"
  },
  "language_info": {
   "codemirror_mode": {
    "name": "ipython",
    "version": 3
   },
   "file_extension": ".py",
   "mimetype": "text/x-python",
   "name": "python",
   "nbconvert_exporter": "python",
   "pygments_lexer": "ipython3",
   "version": "3.8.5"
  }
 },
 "nbformat": 4,
 "nbformat_minor": 4
}
